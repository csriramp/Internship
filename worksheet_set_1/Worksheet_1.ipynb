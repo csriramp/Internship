{
 "cells": [
  {
   "cell_type": "code",
   "execution_count": null,
   "id": "81ec7cef",
   "metadata": {},
   "outputs": [],
   "source": [
    "# Question 1 answer is C (%) \n",
    "5%2\n",
    "4%2\n",
    "23%4"
   ]
  },
  {
   "cell_type": "code",
   "execution_count": null,
   "id": "0ce7ed44",
   "metadata": {},
   "outputs": [],
   "source": [
    "#Question 2 answer is B (0)\n",
    "2//3"
   ]
  },
  {
   "cell_type": "code",
   "execution_count": null,
   "id": "3b7d6c17",
   "metadata": {},
   "outputs": [],
   "source": [
    "#Question 3 answer is C (24)\n",
    "6<<2"
   ]
  },
  {
   "cell_type": "code",
   "execution_count": null,
   "id": "7dfb5be7",
   "metadata": {},
   "outputs": [],
   "source": [
    "#Question 4 answer is A (2)\n",
    "6&2"
   ]
  },
  {
   "cell_type": "code",
   "execution_count": null,
   "id": "0972a9c8",
   "metadata": {},
   "outputs": [],
   "source": [
    "#Question 5 answer is D (6)\n",
    "6|2"
   ]
  },
  {
   "cell_type": "code",
   "execution_count": null,
   "id": "45d1603c",
   "metadata": {},
   "outputs": [],
   "source": [
    "#Question 6 answer is B "
   ]
  },
  {
   "cell_type": "code",
   "execution_count": null,
   "id": "148c3fe9",
   "metadata": {},
   "outputs": [],
   "source": [
    "#Question 7 answer is A (It is used to raise an expection)"
   ]
  },
  {
   "cell_type": "code",
   "execution_count": null,
   "id": "4fa969a0",
   "metadata": {},
   "outputs": [],
   "source": [
    "#Question 8 answer is D (in for loop to return value)"
   ]
  },
  {
   "cell_type": "code",
   "execution_count": null,
   "id": "b01ad419",
   "metadata": {},
   "outputs": [],
   "source": [
    "#Question 9 answers are A and C\n",
    "_abc=[1,2,3]\n",
    "abc2=[466]\n",
    "_abc\n",
    "abc2"
   ]
  },
  {
   "cell_type": "code",
   "execution_count": null,
   "id": "48b15ce0",
   "metadata": {},
   "outputs": [],
   "source": [
    "#Question 10 answer is A and B (color and bold)\n",
    "yield\n",
    "raise"
   ]
  },
  {
   "cell_type": "code",
   "execution_count": 1,
   "id": "8edd4def",
   "metadata": {},
   "outputs": [
    {
     "name": "stdout",
     "output_type": "stream",
     "text": [
      "Enter the number: 10\n",
      "\n",
      " Entered number is  10\n",
      "\n",
      " Factorial of given number is  3628800\n"
     ]
    }
   ],
   "source": [
    "# Question 11 Factorial of a given number\n",
    "inp = int(input('Enter the number: '))\n",
    "print('\\n Entered number is ', inp)\n",
    "\n",
    "def factorial(inp):\n",
    "    f=1\n",
    "    if(inp==0) :\n",
    "        return f\n",
    "    else:\n",
    "        while inp>0 :\n",
    "                  f=f*inp\n",
    "                  inp=inp-1\n",
    "        return f\n",
    "    \n",
    "if ( inp< 0 ):\n",
    "        print(\"Factorial Undefined for negative number\")\n",
    "else:     \n",
    "    fact = factorial(inp)\n",
    "    print('\\n Factorial of given number is ',fact)"
   ]
  },
  {
   "cell_type": "code",
   "execution_count": null,
   "id": "5d54aaf8",
   "metadata": {},
   "outputs": [],
   "source": [
    "#Question 12 prime or composite\n",
    "inp = int(input('Enter the number: '))\n",
    "print('\\n Entered number is ', inp)\n",
    "\n",
    "def prime_comp(inp):\n",
    "    count=0\n",
    "    div=1\n",
    "    if(inp<0):\n",
    "        print('Negative number cannot be prime or composite')\n",
    "    elif(inp==0 or inp==1) :\n",
    "        print('Number is neither prime nor composite')\n",
    "    else:\n",
    "        while inp>=div :\n",
    "            \n",
    "               if(inp % div==0) :\n",
    "                    count +=1\n",
    "                \n",
    "               div+=1\n",
    "                    \n",
    "               \n",
    "        return count\n",
    "    \n",
    "flag = prime_comp(inp)    \n",
    "if ( flag==2 ):\n",
    "     print('\\n', inp,' is prime')\n",
    "elif(flag>2  ):     \n",
    "     print('\\n',inp, 'is composite' )"
   ]
  },
  {
   "cell_type": "code",
   "execution_count": 2,
   "id": "c3ef5a75",
   "metadata": {},
   "outputs": [
    {
     "name": "stdout",
     "output_type": "stream",
     "text": [
      "Enter the text for palindrome check: 121\n",
      "\n",
      " Entered text : 121\n",
      "\n",
      " Reverse is : 121\n",
      "\n",
      " Entered text is Palindrome\n"
     ]
    }
   ],
   "source": [
    "#Question 13 Palindrome Checking\n",
    "inp = input('Enter the text for palindrome check: ')\n",
    "print('\\n Entered text :' , inp)\n",
    "inp_rev = inp[::-1]\n",
    "print('\\n Reverse is :', inp_rev)\n",
    "\n",
    "if (inp==inp_rev) :\n",
    "    print('\\n Entered text is Palindrome')\n",
    "else :\n",
    "    print('\\n Entered text is not palindrome')"
   ]
  },
  {
   "cell_type": "code",
   "execution_count": null,
   "id": "1031d8fc",
   "metadata": {},
   "outputs": [],
   "source": [
    "#Question 14 Finding third side of Right angled Triangle\n",
    "import numpy as np\n",
    "sides= []\n",
    "sides.insert(0,input(\"Enter the Side1 length, or x to find left side :  \"))\n",
    "sides.insert(1,input(\"Enter the Side2 length, or x to find base length :  \"))\n",
    "sides.insert(2,input(\"Enter the Hypotenuse length, or x to find Hypotenuse :  \"))\n",
    "result = right_triangle(sides)\n",
    "result\n",
    "\n",
    "def right_triangle(sides) :\n",
    "    if sides[0]=='x':\n",
    "        if ( int(sides[1]) <=0 or int(sides[2]) <=0 ) :\n",
    "                print('Enter positive Integers')\n",
    "        else:\n",
    "                print('Side1 of Right angled triangle is : ' , np.sqrt(np.square(int(sides[2])) - np.square(int(sides[1]))) )\n",
    "    elif sides[1]=='x':\n",
    "        if(int(sides[0])<= 0 or int(sides[2])<=0) :\n",
    "            print('Enter Positive Integers')\n",
    "        else:    \n",
    "            print('Side2 Right angled triangle is : ' , np.sqrt(np.square(int(sides[2])) - np.square(int(sides[0]))) )\n",
    "    elif sides[2]=='x' :\n",
    "        if(int(sides[0])<=0 or int(sides[1])<=0 ):\n",
    "            print('Enter Positive Integers')\n",
    "        else:    \n",
    "            print('Hypotenuse of Right angled triangle is : ' , np.sqrt(np.square(int(sides[0])) + np.square(int(sides[1]))) )"
   ]
  },
  {
   "cell_type": "code",
   "execution_count": null,
   "id": "436e50b1",
   "metadata": {},
   "outputs": [],
   "source": [
    "#Question 15 Finding frequency of character in a string\n",
    "string=input('Enter the string or number: ')\n",
    "character=input('Enter the character for finding frequency: ')\n",
    "length=range(len(string))\n",
    "\n",
    "count=0\n",
    "for i in length :\n",
    "    if(string[i]==character):\n",
    "       count+=1\n",
    "\n",
    "print('The frequency of entered character:' , character ,'is' , count  )"
   ]
  }
 ],
 "metadata": {
  "kernelspec": {
   "display_name": "Python 3 (ipykernel)",
   "language": "python",
   "name": "python3"
  },
  "language_info": {
   "codemirror_mode": {
    "name": "ipython",
    "version": 3
   },
   "file_extension": ".py",
   "mimetype": "text/x-python",
   "name": "python",
   "nbconvert_exporter": "python",
   "pygments_lexer": "ipython3",
   "version": "3.9.7"
  }
 },
 "nbformat": 4,
 "nbformat_minor": 5
}
